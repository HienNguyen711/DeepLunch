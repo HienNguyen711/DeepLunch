{
 "cells": [
  {
   "cell_type": "markdown",
   "metadata": {},
   "source": [
    "# Perceptron (mạng Neural một tầng)\n",
    "\n",
    "Tác giả: Phạm Quang Nhật Minh (FPT Technology Research Institute)\n",
    "\n",
    "## Giới thiệu\n",
    "\n",
    "Tài liệu này sẽ hướng dẫn cách cài đặt thuật toán Perceptron - một mạng Neural một tầng đơn giản. Sau đó tôi sẽ thử nghiệm thuật toán vừa cài đặt trên dữ liệu phân lớp. Cài đặt trong tài liệu được áp dụng cho phân lớp nhị phân, nhưng chúng ta hoàn toàn có thể mở rộng cho bài toán phân lớp đa lớp.\n",
    "\n",
    "## Dữ liệu\n",
    "\n",
    "Trong cài đặt, chúng tôi dùng lại dữ liệu điểm thi trong cài đặt thuật toán **stochastic gradient descent**.\n",
    "\n",
    "Bài tập sẽ sử dụng dữ liệu trong file ```ex2data1.txt```. Bài toán đặt ra như sau. Giả sử bạn là một người quản lý đầu vào tại một trường đại học. Bạn muốn xác định khả năng một thí sinh được nhận vào học dựa trên kết quả của 2 kỳ thi. \n",
    "\n",
    "### Đọc dữ liệu\n",
    "\n",
    "Tôi sẽ đọc dữ liệu với thư viện ```pandas```."
   ]
  },
  {
   "cell_type": "code",
   "execution_count": 3,
   "metadata": {
    "collapsed": false
   },
   "outputs": [
    {
     "data": {
      "text/html": [
       "<div>\n",
       "<table border=\"1\" class=\"dataframe\">\n",
       "  <thead>\n",
       "    <tr style=\"text-align: right;\">\n",
       "      <th></th>\n",
       "      <th>0</th>\n",
       "      <th>1</th>\n",
       "      <th>2</th>\n",
       "    </tr>\n",
       "  </thead>\n",
       "  <tbody>\n",
       "    <tr>\n",
       "      <th>0</th>\n",
       "      <td>34.623660</td>\n",
       "      <td>78.024693</td>\n",
       "      <td>0.0</td>\n",
       "    </tr>\n",
       "    <tr>\n",
       "      <th>1</th>\n",
       "      <td>30.286711</td>\n",
       "      <td>43.894998</td>\n",
       "      <td>0.0</td>\n",
       "    </tr>\n",
       "    <tr>\n",
       "      <th>2</th>\n",
       "      <td>35.847409</td>\n",
       "      <td>72.902198</td>\n",
       "      <td>0.0</td>\n",
       "    </tr>\n",
       "    <tr>\n",
       "      <th>3</th>\n",
       "      <td>60.182599</td>\n",
       "      <td>86.308552</td>\n",
       "      <td>1.0</td>\n",
       "    </tr>\n",
       "    <tr>\n",
       "      <th>4</th>\n",
       "      <td>79.032736</td>\n",
       "      <td>75.344376</td>\n",
       "      <td>1.0</td>\n",
       "    </tr>\n",
       "  </tbody>\n",
       "</table>\n",
       "</div>"
      ],
      "text/plain": [
       "           0          1    2\n",
       "0  34.623660  78.024693  0.0\n",
       "1  30.286711  43.894998  0.0\n",
       "2  35.847409  72.902198  0.0\n",
       "3  60.182599  86.308552  1.0\n",
       "4  79.032736  75.344376  1.0"
      ]
     },
     "execution_count": 3,
     "metadata": {},
     "output_type": "execute_result"
    }
   ],
   "source": [
    "import pandas as pd\n",
    "import numpy as np\n",
    "\n",
    "df = pd.read_csv('./ex2data1.txt', dtype=np.float64, header=None)\n",
    "\n",
    "df.head()"
   ]
  },
  {
   "cell_type": "markdown",
   "metadata": {},
   "source": [
    "Lấy ma trận $X$ và vector $y$ từ dữ liệu."
   ]
  },
  {
   "cell_type": "code",
   "execution_count": 4,
   "metadata": {
    "collapsed": true
   },
   "outputs": [],
   "source": [
    "X = df.iloc[:,0:2]\n",
    "y = df.iloc[:,2]"
   ]
  },
  {
   "cell_type": "markdown",
   "metadata": {},
   "source": [
    "Bổ sung incercept vào dữ liệu."
   ]
  },
  {
   "cell_type": "code",
   "execution_count": 5,
   "metadata": {
    "collapsed": true
   },
   "outputs": [],
   "source": [
    "X = np.concatenate( ( np.ones( (X.shape[0], 1) ), X ), axis=1 )"
   ]
  },
  {
   "cell_type": "markdown",
   "metadata": {},
   "source": [
    "## Mô hình hoá phương pháp Perceptron\n",
    "\n",
    "Thuật toán Perceptron là một thuật toán học máy đơn giản để học tham số trong mô hình tuyến tính.\n",
    "\n",
    "### Đầu vào\n",
    "\n",
    "Đầu vào là một tập dữ liệu huấn luyện bao gồm dãy các cặp (example, label):\n",
    "\n",
    "$$D = \\{(x^{(1)}, y^{(1)}),\\cdots,(x^{(m)}, y^{(m)})\\}$$\n",
    "\n",
    "Dữ liệu huấn luyện được lưu trong ma trận $X$ trong đó các hàng của $X$ tương ứng với các example, các cột tương ứng với các đặc trưng. Mỗi example trong dữ liệu huấn luyện có một nhãn (label) và dữ liệu nhãn được lưu trong vector $y$.\n",
    "\n",
    "### Mô hình\n",
    "\n",
    "Mô hình Perceptron là một vector tham số $\\theta$. Trong mô hình Perceptron cơ bản, chúng ta sử dụng hàm hypothesis $h_\\theta(x)=g(\\theta^Tx)$. Trong đó $g$ được định nghĩa là threshold function (step function).\n",
    "\n",
    "$$\n",
    "    g(z)= \n",
    "\\begin{cases}\n",
    "    1,& \\text{if } z\\geq 0\\\\\n",
    "    0,              & \\text{if } z \\lt 0\n",
    "\\end{cases}\n",
    "$$\n",
    "\n",
    "### Học mô hình từ dữ liệu huấn luyện\n",
    "\n",
    "Thuật toán Perceptron cũng dựa trên tư tưởng của thuật toán Stochastic Gradient Descent. Khi duyệt qua một phần tử, vector trọng số sẽ được cập nhật.\n",
    "\n",
    "$\\theta_j=\\theta_j - \\alpha(h_\\theta(x^{(i)})-y^{(i)}))x_j^{(i)}$"
   ]
  },
  {
   "cell_type": "markdown",
   "metadata": {},
   "source": [
    "## Cài đặt thuật toán Perceptron\n",
    "\n",
    "### Hàm predict\n",
    "\n",
    "Hàm predict sẽ sử dụng step function ở trên. Đầu vào của hàm predict là một vector hoặc ma trận $X$, vector trọng số $\\theta$, đầu ra là giá trị dự đoán cho mỗi row vector."
   ]
  },
  {
   "cell_type": "code",
   "execution_count": 25,
   "metadata": {
    "collapsed": true
   },
   "outputs": [],
   "source": [
    "def predict(theta, X):\n",
    "    hx = np.dot(X, theta)    \n",
    "    return np.where(hx >= 0, 1, 0)"
   ]
  },
  {
   "cell_type": "markdown",
   "metadata": {},
   "source": [
    "### Hàm fit\n",
    "\n",
    "Hàm fit sẽ học vector trọng số $\\theta$ từ dữ liệu."
   ]
  },
  {
   "cell_type": "code",
   "execution_count": 34,
   "metadata": {
    "collapsed": true
   },
   "outputs": [],
   "source": [
    "def fit(X, y, alpha, num_iters):\n",
    "    m = X.shape[0] # number of training examples\n",
    "    n = X.shape[1] # number of features\n",
    "    theta = np.zeros(n)\n",
    "    \n",
    "    for iter in range(num_iters):\n",
    "        for i in range(m):\n",
    "            error = predict(theta, X[i,:]) - y[i]\n",
    "            update = alpha * ( X[i,:] * error )\n",
    "            theta -= update\n",
    "            \n",
    "    return theta    "
   ]
  },
  {
   "cell_type": "markdown",
   "metadata": {},
   "source": [
    "Học trọng số $\\theta$ từ dữ liệu."
   ]
  },
  {
   "cell_type": "code",
   "execution_count": 47,
   "metadata": {
    "collapsed": false
   },
   "outputs": [
    {
     "name": "stdout",
     "output_type": "stream",
     "text": [
      "Theta = [-1.8507      0.01903494  0.01960232]\n"
     ]
    }
   ],
   "source": [
    "alpha = 0.0001\n",
    "num_iters = 5000\n",
    "\n",
    "theta = fit(X, y, alpha, num_iters)\n",
    "print('Theta = %s' % theta)"
   ]
  },
  {
   "cell_type": "markdown",
   "metadata": {
    "collapsed": true
   },
   "source": [
    "### Tính training accuracy\n",
    "\n",
    "Chúng ta sẽ áp dụng mô hình vừa học trên dữ liệu training và tính training accuracy."
   ]
  },
  {
   "cell_type": "code",
   "execution_count": 48,
   "metadata": {
    "collapsed": false
   },
   "outputs": [
    {
     "name": "stdout",
     "output_type": "stream",
     "text": [
      "Train accuracy: 68.0\n"
     ]
    }
   ],
   "source": [
    "p = predict(theta, X)\n",
    "print('Train accuracy: %s' % ( 100 * (p == y).mean() ))"
   ]
  },
  {
   "cell_type": "markdown",
   "metadata": {},
   "source": [
    "## Sử dụng lớp Perceptron trong scikit-learn\n",
    "\n",
    "Trong phần này, tôi sẽ sử dụng lớp Perceptron trong scikit-learn để học mô hình từ dữ liệu."
   ]
  },
  {
   "cell_type": "code",
   "execution_count": 46,
   "metadata": {
    "collapsed": false
   },
   "outputs": [
    {
     "name": "stdout",
     "output_type": "stream",
     "text": [
      "Train accuracy: 0.70\n"
     ]
    }
   ],
   "source": [
    "from sklearn.linear_model import Perceptron\n",
    "\n",
    "clf = Perceptron(n_iter=5000, shuffle=False)\n",
    "clf.fit(X,y)\n",
    "train_acc = clf.score(X,y)\n",
    "print('Train accuracy: %0.2f' % train_acc)"
   ]
  },
  {
   "cell_type": "markdown",
   "metadata": {},
   "source": [
    "Nếu chúng ta shuffle dữ liệu sau mỗi vòng lặp, mô hình thu được sẽ fit dữ liệu tốt hơn nhiều."
   ]
  },
  {
   "cell_type": "code",
   "execution_count": 49,
   "metadata": {
    "collapsed": false
   },
   "outputs": [
    {
     "name": "stdout",
     "output_type": "stream",
     "text": [
      "Train accuracy: 0.89\n"
     ]
    }
   ],
   "source": [
    "from sklearn.linear_model import Perceptron\n",
    "\n",
    "clf = Perceptron(n_iter=5000, shuffle=True)\n",
    "clf.fit(X,y)\n",
    "train_acc = clf.score(X,y)\n",
    "print('Train accuracy: %0.2f' % train_acc)"
   ]
  },
  {
   "cell_type": "markdown",
   "metadata": {},
   "source": [
    "## Kết luận\n",
    "\n",
    "Trong tài liệu này, tôi đã giới thiệu cài đặt thuật toán Perceptron đơn giản cho bài toán phân lớp nhị phân và so sánh kết quả thu được với lớp Perceptron trong thư viện scikit-learn."
   ]
  }
 ],
 "metadata": {
  "anaconda-cloud": {},
  "kernelspec": {
   "display_name": "Python [Root]",
   "language": "python",
   "name": "Python [Root]"
  },
  "language_info": {
   "codemirror_mode": {
    "name": "ipython",
    "version": 3
   },
   "file_extension": ".py",
   "mimetype": "text/x-python",
   "name": "python",
   "nbconvert_exporter": "python",
   "pygments_lexer": "ipython3",
   "version": "3.5.2"
  }
 },
 "nbformat": 4,
 "nbformat_minor": 0
}
